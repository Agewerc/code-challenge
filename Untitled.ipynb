{
 "cells": [
  {
   "cell_type": "code",
   "execution_count": 1,
   "metadata": {},
   "outputs": [],
   "source": [
    "import pandas as pd"
   ]
  },
  {
   "cell_type": "code",
   "execution_count": 5,
   "metadata": {},
   "outputs": [],
   "source": [
    "data = pd.read_csv('race_dataset.csv', names = ['raceType', 'raceNumber', 'raceName', 'venue', 'raceStartTime'])"
   ]
  },
  {
   "cell_type": "code",
   "execution_count": 17,
   "metadata": {},
   "outputs": [
    {
     "data": {
      "text/html": [
       "<div>\n",
       "<style scoped>\n",
       "    .dataframe tbody tr th:only-of-type {\n",
       "        vertical-align: middle;\n",
       "    }\n",
       "\n",
       "    .dataframe tbody tr th {\n",
       "        vertical-align: top;\n",
       "    }\n",
       "\n",
       "    .dataframe thead th {\n",
       "        text-align: right;\n",
       "    }\n",
       "</style>\n",
       "<table border=\"1\" class=\"dataframe\">\n",
       "  <thead>\n",
       "    <tr style=\"text-align: right;\">\n",
       "      <th></th>\n",
       "      <th>raceType</th>\n",
       "      <th>raceNumber</th>\n",
       "      <th>raceName</th>\n",
       "      <th>venue</th>\n",
       "      <th>raceStartTime</th>\n",
       "    </tr>\n",
       "  </thead>\n",
       "  <tbody>\n",
       "    <tr>\n",
       "      <th>0</th>\n",
       "      <td>Saddle Trotting</td>\n",
       "      <td>9</td>\n",
       "      <td>Immortal Fiends</td>\n",
       "      <td>Ladbrokes Park, Melbourne, Victoria (formerly ...</td>\n",
       "      <td>12.10</td>\n",
       "    </tr>\n",
       "    <tr>\n",
       "      <th>1</th>\n",
       "      <td>Saddle Trotting</td>\n",
       "      <td>7</td>\n",
       "      <td>Immortal Fiends</td>\n",
       "      <td>Doomben Racecourse, Brisbane, Queensland</td>\n",
       "      <td>12.11</td>\n",
       "    </tr>\n",
       "    <tr>\n",
       "      <th>2</th>\n",
       "      <td>Jump racing</td>\n",
       "      <td>2</td>\n",
       "      <td>Forest Angels</td>\n",
       "      <td>Wangaratta Racecourse, Wangaratta, Victoria</td>\n",
       "      <td>12.11</td>\n",
       "    </tr>\n",
       "    <tr>\n",
       "      <th>3</th>\n",
       "      <td>Saddle Trotting</td>\n",
       "      <td>22</td>\n",
       "      <td>Shore Undine</td>\n",
       "      <td>Warrnambool Racecourse, Warrnambool, Victoria</td>\n",
       "      <td>12.12</td>\n",
       "    </tr>\n",
       "    <tr>\n",
       "      <th>4</th>\n",
       "      <td>Harness racing</td>\n",
       "      <td>18</td>\n",
       "      <td>Immortal Fiends</td>\n",
       "      <td>Wyong Race Club, Wyong, New South Wales</td>\n",
       "      <td>12.14</td>\n",
       "    </tr>\n",
       "  </tbody>\n",
       "</table>\n",
       "</div>"
      ],
      "text/plain": [
       "          raceType  raceNumber         raceName  \\\n",
       "0  Saddle Trotting           9  Immortal Fiends   \n",
       "1  Saddle Trotting           7  Immortal Fiends   \n",
       "2      Jump racing           2    Forest Angels   \n",
       "3  Saddle Trotting          22     Shore Undine   \n",
       "4   Harness racing          18  Immortal Fiends   \n",
       "\n",
       "                                               venue  raceStartTime  \n",
       "0  Ladbrokes Park, Melbourne, Victoria (formerly ...          12.10  \n",
       "1           Doomben Racecourse, Brisbane, Queensland          12.11  \n",
       "2        Wangaratta Racecourse, Wangaratta, Victoria          12.11  \n",
       "3      Warrnambool Racecourse, Warrnambool, Victoria          12.12  \n",
       "4            Wyong Race Club, Wyong, New South Wales          12.14  "
      ]
     },
     "execution_count": 17,
     "metadata": {},
     "output_type": "execute_result"
    }
   ],
   "source": [
    "data[data['raceStartTime'] > 12.05].head()"
   ]
  }
 ],
 "metadata": {
  "kernelspec": {
   "display_name": "Python 3",
   "language": "python",
   "name": "python3"
  },
  "language_info": {
   "codemirror_mode": {
    "name": "ipython",
    "version": 3
   },
   "file_extension": ".py",
   "mimetype": "text/x-python",
   "name": "python",
   "nbconvert_exporter": "python",
   "pygments_lexer": "ipython3",
   "version": "3.7.7"
  }
 },
 "nbformat": 4,
 "nbformat_minor": 4
}
